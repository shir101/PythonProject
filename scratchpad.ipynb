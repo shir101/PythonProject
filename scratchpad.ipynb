{
 "cells": [
  {
   "cell_type": "code",
   "execution_count": 27,
   "id": "4a1be6f1",
   "metadata": {},
   "outputs": [],
   "source": [
    "from typing import Dict, Set\n",
    "import copy\n",
    "import random\n",
    "\n",
    "# Function that creates a sequence and returns the sequence itself\n",
    "Sequence = str\n",
    "Kmer = str\n",
    "Label = str\n",
    "\n",
    "def generateSequence(length) -> Sequence:\n",
    "    return ''.join(random.choices(['A', 'C', 'G', 'T'], k=length))\n",
    "\n",
    "def getKmersFromSequence(sequence, kmer_size):\n",
    "    if len(sequence) < kmer_size:\n",
    "        return []\n",
    "    return [sequence[i: i+kmer_size] for i in range(len(sequence) - kmer_size + 1)]\n",
    "\n",
    "class GenomicDB(object):\n",
    "    def __init__(\n",
    "        self,\n",
    "        kmer_size\n",
    "    ) -> None:\n",
    "        self.kmer_size = kmer_size\n",
    "        self.orig_db: Dict[Kmer, Set[Label]] = {} # Set for efficient search\n",
    "        self.db = copy.deepcopy(self.orig_db)\n",
    "        self.threshold = -1\n",
    "\n",
    "    def setThreshold(\n",
    "        self,\n",
    "        thresh\n",
    "    ) -> None:\n",
    "        # Sanity check needed\n",
    "        self.threshold = thresh\n",
    "        self.db = copy.deepcopy(self.orig_db)\n",
    "        if self.threshold == -1:\n",
    "            return\n",
    "        kmers_to_trim = []\n",
    "        for kmer in self.db:\n",
    "            if len(self.db[kmer]) > self.threshold: # אם מספר הלינג'ים גדול מהטרשהולד אז נכניס אותם לקיימרס טו טרים   \n",
    "                kmers_to_trim.append(kmer)\n",
    "        for kmer in kmers_to_trim:\n",
    "            self.db.pop(kmer)\n",
    "\n",
    "    def addToDB(\n",
    "        self,\n",
    "        sequence: Sequence,\n",
    "        name: str\n",
    "    ) -> None:\n",
    "        kmers = getKmersFromSequence(sequence, self.kmer_size)\n",
    "        for kmer in kmers:\n",
    "            if kmer in self.orig_db:\n",
    "                self.orig_db[kmer].add(name)\n",
    "            else:\n",
    "                self.orig_db[kmer] = set([name])\n",
    "        self.setThreshold(self.threshold)\n",
    "\n",
    "\n",
    "    def querySequence(\n",
    "        self,\n",
    "        sequence) -> None:\n",
    "        results = {}\n",
    "        true_label = None\n",
    "        true_label_count = 0\n",
    "        for kmer in getKmersFromSequence(sequence, self.kmer_size):\n",
    "            if kmer in self.db:\n",
    "                for label in self.db[kmer]:\n",
    "                    if not label in results:\n",
    "                        results[label] = 0\n",
    "                    results[label] += 1\n",
    "                    if results[label] > true_label_count:\n",
    "                        true_label = label\n",
    "                        true_label_count = results[label]\n",
    "        return true_label\n"
   ]
  },
  {
   "cell_type": "code",
   "execution_count": 28,
   "id": "a5499259",
   "metadata": {},
   "outputs": [],
   "source": [
    "db = GenomicDB(kmer_size=8)"
   ]
  },
  {
   "cell_type": "code",
   "execution_count": 29,
   "id": "8a280e3f",
   "metadata": {},
   "outputs": [],
   "source": [
    "sequences = []\n",
    "length = 10000\n",
    "for i in range(5):\n",
    "    sequences.append(generateSequence(length))    \n",
    "    db.addToDB(\n",
    "        sequence=sequences[i],\n",
    "        name=f\"{i}\")    "
   ]
  },
  {
   "cell_type": "code",
   "execution_count": 30,
   "id": "23d7eb75",
   "metadata": {},
   "outputs": [
    {
     "data": {
      "text/plain": [
       "34987"
      ]
     },
     "execution_count": 30,
     "metadata": {},
     "output_type": "execute_result"
    }
   ],
   "source": [
    "len(db.db) #גודל הדאטא בייס הפנימי , מספר הקיימרים,    אצל זוהיר זה יצא 35097  \n",
    "#db.querySequence(sequences[0])"
   ]
  },
  {
   "cell_type": "code",
   "execution_count": 33,
   "id": "f8f7e644",
   "metadata": {},
   "outputs": [],
   "source": [
    "db.setThreshold(1) "
   ]
  },
  {
   "cell_type": "code",
   "execution_count": 34,
   "id": "ff6a5757",
   "metadata": {},
   "outputs": [
    {
     "data": {
      "text/plain": [
       "25183"
      ]
     },
     "execution_count": 34,
     "metadata": {},
     "output_type": "execute_result"
    }
   ],
   "source": [
    "len(db.db) #  אצל זוהיר זה יצא  25395 ,מה שאמור להישאר זה כל הקיימרים שיש להם לכל היותר אורגניזם אחד , כלומר זה מספר הקיימרים הייחודיים "
   ]
  },
  {
   "cell_type": "code",
   "execution_count": 39,
   "id": "414ade9c",
   "metadata": {},
   "outputs": [],
   "source": [
    "db.setThreshold(5) "
   ]
  },
  {
   "cell_type": "code",
   "execution_count": 40,
   "id": "af2bab62",
   "metadata": {},
   "outputs": [
    {
     "data": {
      "text/plain": [
       "34987"
      ]
     },
     "execution_count": 40,
     "metadata": {},
     "output_type": "execute_result"
    }
   ],
   "source": [
    "len(db.db)"
   ]
  },
  {
   "cell_type": "markdown",
   "id": "a3ec535e",
   "metadata": {},
   "source": [
    "אנחנו בונים את הדאטא בייס ואז משחקים עם פונקציית הסט טרשהולד ואז אנחנו בוחנים את הדיוק שלנו לפי הטרשהולד. "
   ]
  },
  {
   "cell_type": "markdown",
   "id": "a2d608f4",
   "metadata": {},
   "source": [
    "כאשנחנו נבנה את הדברים הללו עם המידע של קורונה , המספרים הללו אמורים להשתנות בצורה דרסטית (אנחנו אמורים להישאר עם בערך 300 קיימרים - ולא 25 אלף כמו כאן) "
   ]
  },
  {
   "cell_type": "markdown",
   "id": "1af6acb6",
   "metadata": {},
   "source": [
    " add to database קודם להכניס את הגנומים לדאטא בייס על ידי "
   ]
  },
  {
   "cell_type": "markdown",
   "id": "99c39177",
   "metadata": {},
   "source": [
    " add to database הערה חשובה מזוהיר: לעשות"
   ]
  },
  {
   "cell_type": "markdown",
   "id": "4626b4ca",
   "metadata": {},
   "source": [
    "בגלל שזה ייקח הרבה זמן  setThreshold לפני שאנחנו מגדירים את ערך הסף עם"
   ]
  },
  {
   "cell_type": "markdown",
   "id": "ac6f31fe",
   "metadata": {},
   "source": [
    " sequences  ואז בסוף להכניס ל"
   ]
  },
  {
   "cell_type": "markdown",
   "id": "2cbf4610",
   "metadata": {},
   "source": [
    "# שיטת הפעולה: "
   ]
  },
  {
   "cell_type": "markdown",
   "id": "5679fd9f",
   "metadata": {},
   "source": [
    "אנחנו לוקחים קובץ פסטה , קוראים מהקובץ את הגנום , מכניסים אותו לתוך סטרינג פייתוני טהור , ואז משתמשים בפונקציה אד טו דאטאבייס - נותנים לה את הסיקוונס, ברגע שנתנו לה את הסיקוונס ועשינו אד טו דאטאבייס אז זהו זה ,סיימנו והקובץ הזה נמצא בדאטא בייס שלנו , אנחנו גם מוסיפים את השם שלו. ואז אנחנו עושים את זה עם כל שאר הקבצים . ובסוף מה שאנחנו צריכים לעשות זה קווארי , כלומר לחפש . "
   ]
  },
  {
   "cell_type": "markdown",
   "id": "91f109e1",
   "metadata": {},
   "source": [
    "  אל תחפשו דברים שהכנסתם כבר לדאטאבייס (כמו שעשינו כאן למעלה) אלא דברים שלא הכנסנו ."
   ]
  },
  {
   "cell_type": "markdown",
   "id": "d356a435",
   "metadata": {},
   "source": [
    " למשל אם הורדנו 10 אקסשנים מלינאג' מסוים אז מכניסים אחד מהם ומחפשים 9 אחרים"
   ]
  },
  {
   "cell_type": "code",
   "execution_count": 45,
   "id": "caaddd46",
   "metadata": {},
   "outputs": [],
   "source": [
    "# Import parts of Biopython\n",
    "from Bio import SeqIO\n",
    "import os\n",
    "import numpy as np"
   ]
  },
  {
   "cell_type": "code",
   "execution_count": 46,
   "id": "e312d01a",
   "metadata": {},
   "outputs": [],
   "source": [
    " directory = './data/'"
   ]
  },
  {
   "cell_type": "code",
   "execution_count": 47,
   "id": "e7b554cb",
   "metadata": {},
   "outputs": [
    {
     "name": "stdout",
     "output_type": "stream",
     "text": [
      "File: ./data/KU714439.1.fasta\n",
      "File: ./data/NC_001498.1.fasta\n",
      "File: ./data/NC_001542.1.fasta\n",
      "File: ./data/NC_002640.1.fasta\n",
      "File: ./data/NC_003977.2.fasta\n",
      "File: ./data/NC_004297.1.fasta\n",
      "File: ./data/NC_026431.1.fasta\n",
      "File: ./data/NC_035889.1.fasta\n",
      "File: ./data/NC_038294.1.fasta\n",
      "File: ./data/NC_039345.1.fasta\n"
     ]
    }
   ],
   "source": [
    "# Iterate over each file in the directory\n",
    "for filename in os.listdir(directory):\n",
    "    file_path = os.path.join(directory, filename)\n",
    "    \n",
    "    # Check if the path is a file (not a directory)\n",
    "    if os.path.isfile(file_path):\n",
    "        # Process the file as needed\n",
    "        print(\"File:\", file_path)"
   ]
  },
  {
   "cell_type": "code",
   "execution_count": null,
   "id": "4e077930",
   "metadata": {},
   "outputs": [],
   "source": []
  }
 ],
 "metadata": {
  "kernelspec": {
   "display_name": "Python 3 (ipykernel)",
   "language": "python",
   "name": "python3"
  },
  "language_info": {
   "codemirror_mode": {
    "name": "ipython",
    "version": 3
   },
   "file_extension": ".py",
   "mimetype": "text/x-python",
   "name": "python",
   "nbconvert_exporter": "python",
   "pygments_lexer": "ipython3",
   "version": "3.9.12"
  }
 },
 "nbformat": 4,
 "nbformat_minor": 5
}
