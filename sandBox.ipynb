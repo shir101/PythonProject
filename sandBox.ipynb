{
 "cells": [
  {
   "cell_type": "code",
   "execution_count": null,
   "metadata": {},
   "outputs": [],
   "source": [
    "from hdcamV2 import Controller as HDCAM"
   ]
  },
  {
   "cell_type": "code",
   "execution_count": null,
   "metadata": {},
   "outputs": [],
   "source": [
    "hdcam = HDCAM()"
   ]
  },
  {
   "cell_type": "code",
   "execution_count": 1,
   "metadata": {},
   "outputs": [],
   "source": [
    "import random\n",
    "from typing import List\n",
    "def getRandomList(size: int) -> List[int]:\n",
    "    l = []\n",
    "    for i in range(size):\n",
    "        l.append(random.randint(0, (1<<64)))\n",
    "    return l"
   ]
  },
  {
   "cell_type": "code",
   "execution_count": 2,
   "metadata": {},
   "outputs": [],
   "source": [
    "import random\n",
    "\n",
    "def insert_errors(binary_list, hamming_distance):\n",
    "    #binary_list = list(binary_string)\n",
    "    errors_count = 0\n",
    "    while errors_count < hamming_distance:\n",
    "        index = random.randint(0, len(binary_list) - 1)\n",
    "        if binary_list[index] == \"0\":\n",
    "            binary_list[index] = \"1\"\n",
    "            errors_count += 1\n",
    "        elif binary_list[index] == \"1\":\n",
    "            binary_list[index] = \"0\"\n",
    "            errors_count += 1\n",
    "    return \"\".join(binary_list)"
   ]
  },
  {
   "cell_type": "code",
   "execution_count": 5,
   "metadata": {},
   "outputs": [
    {
     "ename": "KeyboardInterrupt",
     "evalue": "",
     "output_type": "error",
     "traceback": [
      "\u001b[1;31m---------------------------------------------------------------------------\u001b[0m",
      "\u001b[1;31mKeyboardInterrupt\u001b[0m                         Traceback (most recent call last)",
      "Input \u001b[1;32mIn [5]\u001b[0m, in \u001b[0;36m<cell line: 3>\u001b[1;34m()\u001b[0m\n\u001b[0;32m      1\u001b[0m hamming_dist \u001b[38;5;241m=\u001b[39m \u001b[38;5;241m1\u001b[39m\n\u001b[0;32m      2\u001b[0m hdcam_array \u001b[38;5;241m=\u001b[39m getRandomList(\u001b[38;5;241m480\u001b[39m)\n\u001b[1;32m----> 3\u001b[0m error_list \u001b[38;5;241m=\u001b[39m \u001b[43minsert_errors\u001b[49m\u001b[43m(\u001b[49m\u001b[43mhdcam_array\u001b[49m\u001b[43m,\u001b[49m\u001b[43mhamming_dist\u001b[49m\u001b[43m)\u001b[49m\n\u001b[0;32m      4\u001b[0m \u001b[38;5;66;03m#not_in_hdcam = getRandomList(480)\u001b[39;00m\n\u001b[0;32m      5\u001b[0m \u001b[38;5;66;03m#hdcam.write(hdcam_array)\u001b[39;00m\n\u001b[0;32m      6\u001b[0m \u001b[38;5;28mprint\u001b[39m(hdcam_array)\n",
      "Input \u001b[1;32mIn [2]\u001b[0m, in \u001b[0;36minsert_errors\u001b[1;34m(binary_string, hamming_distance)\u001b[0m\n\u001b[0;32m      5\u001b[0m errors_count \u001b[38;5;241m=\u001b[39m \u001b[38;5;241m0\u001b[39m\n\u001b[0;32m      6\u001b[0m \u001b[38;5;28;01mwhile\u001b[39;00m errors_count \u001b[38;5;241m<\u001b[39m hamming_distance:\n\u001b[1;32m----> 7\u001b[0m     index \u001b[38;5;241m=\u001b[39m \u001b[43mrandom\u001b[49m\u001b[38;5;241;43m.\u001b[39;49m\u001b[43mrandint\u001b[49m\u001b[43m(\u001b[49m\u001b[38;5;241;43m0\u001b[39;49m\u001b[43m,\u001b[49m\u001b[43m \u001b[49m\u001b[38;5;28;43mlen\u001b[39;49m\u001b[43m(\u001b[49m\u001b[43mbinary_list\u001b[49m\u001b[43m)\u001b[49m\u001b[43m \u001b[49m\u001b[38;5;241;43m-\u001b[39;49m\u001b[43m \u001b[49m\u001b[38;5;241;43m1\u001b[39;49m\u001b[43m)\u001b[49m\n\u001b[0;32m      8\u001b[0m     \u001b[38;5;28;01mif\u001b[39;00m binary_list[index] \u001b[38;5;241m==\u001b[39m \u001b[38;5;124m\"\u001b[39m\u001b[38;5;124m0\u001b[39m\u001b[38;5;124m\"\u001b[39m:\n\u001b[0;32m      9\u001b[0m         binary_list[index] \u001b[38;5;241m=\u001b[39m \u001b[38;5;124m\"\u001b[39m\u001b[38;5;124m1\u001b[39m\u001b[38;5;124m\"\u001b[39m\n",
      "\u001b[1;31mKeyboardInterrupt\u001b[0m: "
     ]
    }
   ],
   "source": [
    "hamming_dist = 1\n",
    "hdcam_array = getRandomList(480)\n",
    "\n",
    "#ERROR - insert_errors expects binary list but hdcam_array is not binary\n",
    "# ask what hdcam_array represents and fix insert_errors accordingly\n",
    "\n",
    "error_list = insert_errors(hdcam_array,hamming_dist)\n",
    "#not_in_hdcam = getRandomList(480)\n",
    "#hdcam.write(hdcam_array)\n",
    "print(hdcam_array)\n",
    "print(error_list)"
   ]
  },
  {
   "cell_type": "code",
   "execution_count": null,
   "metadata": {},
   "outputs": [],
   "source": [
    "#hdcam.read(not_in_hdcam)\n",
    "hdcam.read(error_list)"
   ]
  },
  {
   "cell_type": "code",
   "execution_count": null,
   "metadata": {},
   "outputs": [],
   "source": [
    "hdcam.read(hdcam_array)"
   ]
  },
  {
   "cell_type": "code",
   "execution_count": null,
   "metadata": {},
   "outputs": [],
   "source": []
  }
 ],
 "metadata": {
  "kernelspec": {
   "display_name": "Python 3 (ipykernel)",
   "language": "python",
   "name": "python3"
  },
  "language_info": {
   "codemirror_mode": {
    "name": "ipython",
    "version": 3
   },
   "file_extension": ".py",
   "mimetype": "text/x-python",
   "name": "python",
   "nbconvert_exporter": "python",
   "pygments_lexer": "ipython3",
   "version": "3.9.12"
  },
  "vscode": {
   "interpreter": {
    "hash": "96866a9f6a3478a4215623d1444c52858bff05b2be959ca0cea8fa55a4fcb4b8"
   }
  }
 },
 "nbformat": 4,
 "nbformat_minor": 2
}
